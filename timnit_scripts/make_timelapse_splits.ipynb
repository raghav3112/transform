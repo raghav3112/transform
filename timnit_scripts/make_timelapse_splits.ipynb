{
 "cells": [
  {
   "cell_type": "code",
   "execution_count": 29,
   "metadata": {
    "collapsed": false
   },
   "outputs": [],
   "source": [
    "'''\n",
    "f=open('~/lat_lng_rot_url.txt')\n",
    "lines=f.readlines()\n",
    "lines=lines[0:1000]\n",
    "\n",
    "summer='jun,jul,aug'\n",
    "winter='sept,oct,nov'\n",
    "\n",
    "im_dict={}\n",
    "for l in lines:\n",
    "    parts=l.split('\\t')\n",
    "    lat=parts[0].split('_')[0]\n",
    "    lng=parts[0].split('_')[1]\n",
    "    date=parts[-1].split('_')[-1][0:-5]\n",
    "    lat_lng='%s_%s'%(lat,lng)\n",
    "    if lat_lng in lld_dict.keys():\n",
    "        lld_dict[lat_lng].append(date)\n",
    "    else:\n",
    "        lld_dict[lat_lng]=[date]\n",
    "'''   \n",
    "import os\n",
    "\n",
    "#For each location, pick one summer/winter pair from the same year\n",
    "#For now, pick 20 source/target images by hand    \n",
    "output_data_root='/scr/r6/tgebru/inverting_conv/caffe_invert_alexnet/data/timelapse'\n",
    "train_source_file=os.path.join(output_data_root,\n",
    "                               'tiny_summer_train.txt')\n",
    "train_target_file=os.path.join(output_data_root,\n",
    "                               'tiny_winter_train.txt')\n",
    "\n",
    "val_source_file=os.path.join(output_data_root,\n",
    "                             'tiny_summer_val.txt')\n",
    "val_target_file=os.path.join(output_data_root,\n",
    "                             'tiny_winter_val.txt')\n",
    "\n",
    "test_source_file=os.path.join(output_data_root,\n",
    "                             'tiny_summer_test.txt')\n",
    "test_target_file=os.path.join(output_data_root,\n",
    "                             'tiny_winter_test.txt')\n",
    "\n",
    "train_root='/scr/r6/tgebru/inverting_conv/caffe_invert_alexnet/data/timelapse/tiny_unwarped_images'\n",
    "train_source_files=[\n",
    "    '%s/40.500704_-74.246734_0_Aug-2007.jpg'%train_root,\n",
    "    '%s/40.500479_-74.24881_0_Aug-2013.jpg'%train_root,\n",
    "    '%s/40.500929_-74.247624_0_Aug-2013.jpg'%train_root,\n",
    "    '%s/40.499805_-74.239322_0_Aug-2007.jpg'%train_root,\n",
    "    '%s/40.498681_-74.241694_0_Aug-2007.jpg'%train_root,\n",
    "    '%s/40.500254_-74.237543_0_Aug-2007.jpg'%train_root,\n",
    "    '%s/40.499355_-74.24288_0_Aug-2007.jpg'%train_root,\n",
    "    '%s/40.501603_-74.247031_0_Aug-2013.jpg'%train_root,\n",
    "    '%s/40.501378_-74.246734_60_Aug-2013.jpg'%train_root,\n",
    "    '%s/40.499805_-74.239026_0_Aug-2007.jpg'%train_root\n",
    "]\n",
    "\n",
    "train_target_files=[\n",
    "    '%s/40.500704_-74.246734_0_Dec-2012.jpg'%train_root,\n",
    "    '%s/40.500479_-74.24881_0_Dec-2012.jpg'%train_root,\n",
    "    '%s/40.500929_-74.247624_0_Dec-2012.jpg'%train_root,\n",
    "    '%s/40.499805_-74.239322_0_Dec-2012.jpg'%train_root,\n",
    "    '%s/40.498681_-74.241694_0_Dec-2012.jpg'%train_root,\n",
    "    '%s/40.500254_-74.237543_0_Dec-2012.jpg'%train_root,\n",
    "    '%s/40.499355_-74.24288_0_Dec-2012.jpg'%train_root,\n",
    "    '%s/40.501603_-74.247031_0_Dec-2012.jpg'%train_root,\n",
    "    '%s/40.501378_-74.246734_60_Dec-2012.jpg'%train_root,\n",
    "    '%s/40.499805_-74.239026_0_Dec-2012.jpg'%train_root\n",
    "]"
   ]
  },
  {
   "cell_type": "code",
   "execution_count": 30,
   "metadata": {
    "collapsed": false
   },
   "outputs": [],
   "source": [
    "fs=open(train_source_file,'w')\n",
    "ft=open(train_target_file,'w')\n",
    "\n",
    "fvs=open(val_source_file,'w')\n",
    "fvt=open(val_target_file,'w')\n",
    "\n",
    "fts=open(test_source_file,'w')\n",
    "ftt=open(test_target_file,'w')\n",
    "\n",
    "for s,t in zip(train_source_files,train_target_files):\n",
    "    #0 at the end because cafafe model expects labels\n",
    "    fs.write('%s 0\\n'%s[1:]) #get rid of leading \"/\" for making lmdb\n",
    "    ft.write('%s 0\\n'%t[1:])\n",
    "fs.close()\n",
    "ft.close()\n",
    "\n",
    "for s,t in zip(train_source_files,train_target_files):\n",
    "    fvs.write('%s 0\\n'%s[1:])\n",
    "    fvt.write('%s 0\\n'%t[1:])\n",
    "fvs.close()\n",
    "fvt.close()\n",
    "\n",
    "for s,t in zip(train_source_files,train_target_files):\n",
    "    fts.write('%s 0\\n'%s[1:])\n",
    "    ftt.write('%s 0\\n'%t[1:]) \n",
    "fts.close()\n",
    "ftt.close()"
   ]
  },
  {
   "cell_type": "code",
   "execution_count": null,
   "metadata": {
    "collapsed": true
   },
   "outputs": [],
   "source": []
  }
 ],
 "metadata": {
  "kernelspec": {
   "display_name": "Python 2",
   "language": "python",
   "name": "python2"
  },
  "language_info": {
   "codemirror_mode": {
    "name": "ipython",
    "version": 2
   },
   "file_extension": ".py",
   "mimetype": "text/x-python",
   "name": "python",
   "nbconvert_exporter": "python",
   "pygments_lexer": "ipython2",
   "version": "2.7.6"
  }
 },
 "nbformat": 4,
 "nbformat_minor": 0
}
