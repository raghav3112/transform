{
 "cells": [
  {
   "cell_type": "code",
   "execution_count": 34,
   "metadata": {
    "collapsed": false,
    "scrolled": false
   },
   "outputs": [
    {
     "name": "stdout",
     "output_type": "stream",
     "text": [
      "1 0 0 0 0 1e+30\n",
      "True\n"
     ]
    },
    {
     "data": {
      "image/png": "[encoded data removed]",
      "text/plain": [
       "<matplotlib.figure.Figure at 0x7fcbdaf017d0>"
      ]
     },
     "metadata": {},
     "output_type": "display_data"
    }
   ],
   "source": [
    "import sys\n",
    "import glob \n",
    "import os\n",
    "\n",
    "# if len(sys.argv) != 2:\n",
    "#     print 'Wrong number of args'\n",
    "#     print 'Arg1: input log file'\n",
    "#     print 'Arg2: output image file'\n",
    "\n",
    "# log_file = sys.argv[0]\n",
    "# img_file = sys.argv[1]\n",
    "\n",
    "# store data\n",
    "#log_file='0.00000000001.0.5.10000.0.9.0.0005.10000.same.log'\n",
    "#log_file='0.00000000001.0.5.10000.0.9.0.0005.10000.winter_summer.log'\n",
    "\n",
    "gammas=['0.1','0.51']#,'1']\n",
    "stepsizes=['1000','3000','5000','10000']\n",
    "weight_decays=['0','0.0005','0.005','0.05']\n",
    "lr='0.00000000001'\n",
    "momentum='0.9'\n",
    "max_iter='10000'\n",
    "iterations=['2000','4000','6000','8000','10000']\n",
    "            \n",
    "min_loss=1e30\n",
    "min_gamma=0\n",
    "min_decay=0\n",
    "min_iter=0\n",
    "min_step=0\n",
    "min_trainLoss=0\n",
    "min_trainIter=0\n",
    "min_file=''\n",
    "#Find out parameter with the lowest loss\n",
    "READ=True\n",
    "cur_num=0\n",
    "#for gamma in gammas:\n",
    "#  for stepsize in stepsizes:\n",
    "#     for weight_decay in weight_decays:\n",
    "#         for iteration in iterations:\n",
    "\n",
    "cur_num += 1\n",
    "print cur_num,min_gamma,min_decay,min_iter,min_step,min_loss\n",
    "#suffix='%s.%s.%s.%s.%s.%s'%(lr,gamma,stepsize,momentum,\n",
    "#                                      weight_decay,iteration)\n",
    "#logfiles=glob.glob('/tmp/finetune_net.bin.tibet2.tgebru.log.INFO.*')\n",
    "#numlogs = len(logfiles)\n",
    "#for log_file in logfiles:\n",
    "#log_file='0.00000000001.0.5.10000.0.9.0.005.50000.winter_summer.log'\n",
    "log_file='finetune_net.bin.tibet2.tgebru.log.INFO.20150905-142400.3807'\n",
    "\n",
    "#print 'processing %d out of %d'%(cur_num,numlogs)\n",
    "try:\n",
    "    log_handle = open(log_file, 'r')\n",
    "    READ=True\n",
    "except:\n",
    "    READ=False\n",
    "    pass\n",
    "print READ\n",
    "if READ:\n",
    "    trainIter = []\n",
    "    trainLoss = []\n",
    "    trainRecall = []\n",
    "\n",
    "    testIter = []\n",
    "    testRecall = []\n",
    "\n",
    "    iteration = 0 \n",
    "    testing = False\n",
    "    testIt = 0\n",
    "    TEST_INTERVAL=1000\n",
    "    for line in log_handle:\n",
    "        #testing\n",
    "        if (iteration + 1) % TEST_INTERVAL == 0: \n",
    "            testIt += 1\n",
    "\n",
    "        # training\n",
    "        else:\n",
    "            # loss\n",
    "            iter_index = line.find('Iteration')\n",
    "            loss_index = line.find('total loss')\n",
    "            if iter_index >=0 and loss_index >=0:\n",
    "                line = line[iter_index:]\n",
    "                fields = line.strip().split(',')\n",
    "                iteration = int(fields[0].split(' ')[1])\n",
    "                trainIter.append(iteration)\n",
    "                try:\n",
    "                    trainLoss.append(float(fields[1].split(' ')[-1]))\n",
    "                except:\n",
    "                    pass\n",
    "\n",
    "        iteration += 1     \n",
    "                    #print 'Iteration %d, testing %d' %(iteration, testIt)\n",
    "\n",
    "\n",
    "    log_handle.close()\n",
    "    '''\n",
    "    if trainLoss:\n",
    "      if min(trainLoss) < min_loss and min(trainLoss)>1e5:\n",
    "        min_loss=min(trainLoss)\n",
    "        min_gamma=gamma\n",
    "        min_decay=weight_decay\n",
    "        min_iter=iteration\n",
    "        min_step=stepsize \n",
    "        min_trainLoss=trainLoss\n",
    "        min_trainIter=trainIter\n",
    "        min_file=log_file\n",
    "    '''\n",
    "\n",
    "# visualize loss\n",
    "%matplotlib inline\n",
    "import matplotlib.pyplot as plt\n",
    "import numpy as np\n",
    "\n",
    "fig, ax1 = plt.subplots()\n",
    "lns1 = ax1.plot(trainIter, trainLoss, 'b', label = 'Training loss')\n",
    "ax1.set_xlabel('Iteration')\n",
    "#ax1.set_ylim((0, 20))\n",
    "ax1.set_ylabel('Loss')\n",
    "#ax2 = ax1.twinx()\n",
    "lns = lns1\n",
    "labs = [l.get_label() for l in lns]\n",
    "#title_str = 'Iter=%d, loss=%.2f, min_loss=%.2f, gamma=%.2f, iter=%d, decay=%.2f, step=%.2f'%(min_trainIter[-1], min_trainLoss[-1]\n",
    "#                       min_loss=%.2f, gamma=%.2f, iter=%d, decay=%.2f, step=)\n",
    "#ax1.set_title(title_str)\n",
    "ax1.grid()\n",
    "\n",
    "plt.show()\n",
    "save_dir='./loss_plots/'\n",
    "img_file=os.path.join(save_dir,log_file.split('.')[0])\n",
    "fig.savefig(img_file, bbox_inches='tight')"
   ]
  },
  {
   "cell_type": "code",
   "execution_count": 60,
   "metadata": {
    "collapsed": false
   },
   "outputs": [
    {
     "name": "stdout",
     "output_type": "stream",
     "text": [
      "114158000.0 0.00000000001.0.5.10000.0.9.0.005.10000.summer_winter.log 10007 10000 0.51 0.05 114158000.0\n"
     ]
    }
   ],
   "source": [
    "print min_loss, min_file, min_iter,min_step,min_gamma,min_decay,min(min_trainLoss)"
   ]
  },
  {
   "cell_type": "code",
   "execution_count": 47,
   "metadata": {
    "collapsed": false
   },
   "outputs": [
    {
     "data": {
      "text/plain": [
       "(78046100.0, 5516)"
      ]
     },
     "execution_count": 47,
     "metadata": {},
     "output_type": "execute_result"
    }
   ],
   "source": [
    "min(trainLoss), np.argmin(trainLoss)"
   ]
  },
  {
   "cell_type": "code",
   "execution_count": 23,
   "metadata": {
    "collapsed": false
   },
   "outputs": [
    {
     "data": {
      "text/plain": [
       "[318392000.0,\n",
       " 106772000000.0,\n",
       " 55046400000000.0,\n",
       " inf,\n",
       " nan,\n",
       " nan,\n",
       " nan,\n",
       " nan,\n",
       " nan,\n",
       " nan]"
      ]
     },
     "execution_count": 23,
     "metadata": {},
     "output_type": "execute_result"
    }
   ],
   "source": [
    "trainLoss[0:10]"
   ]
  },
  {
   "cell_type": "code",
   "execution_count": 18,
   "metadata": {
    "collapsed": false
   },
   "outputs": [
    {
     "data": {
      "text/plain": [
       "9990"
      ]
     },
     "execution_count": 18,
     "metadata": {},
     "output_type": "execute_result"
    }
   ],
   "source": []
  },
  {
   "cell_type": "code",
   "execution_count": null,
   "metadata": {
    "collapsed": true
   },
   "outputs": [],
   "source": []
  }
 ],
 "metadata": {
  "kernelspec": {
   "display_name": "Python 2",
   "language": "python",
   "name": "python2"
  },
  "language_info": {
   "codemirror_mode": {
    "name": "ipython",
    "version": 2
   },
   "file_extension": ".py",
   "mimetype": "text/x-python",
   "name": "python",
   "nbconvert_exporter": "python",
   "pygments_lexer": "ipython2",
   "version": "2.7.6"
  }
 },
 "nbformat": 4,
 "nbformat_minor": 0
}
